{
 "cells": [
  {
   "cell_type": "markdown",
   "metadata": {},
   "source": [
    "# Ejercicio: Uso de funciones en Python\n",
    "### Ejercicio 1: Trabajar con argumentos en funciones\n",
    "Los argumentos requeridos en las funciones se utilizan cuando las funciones necesitan que esos argumentos funcionen correctamente. En este ejercicio, construirás un informe de combustible que requiere información de varias ubicaciones de combustible en todo el cohete.\n",
    "Comienza por crear una función que necesite tres lecturas de combustible y devuelva un informe:"
   ]
  },
  {
   "cell_type": "code",
   "execution_count": 15,
   "metadata": {},
   "outputs": [],
   "source": [
    "def promedio_combustible(tanque_uno, tanque_dos, tanque_tres):\n",
    "    return f\"\"\"\n",
    "    El promedio de combustible es: {(tanque_uno + tanque_dos + tanque_tres) / 3}%\n",
    "    El tanque uno tiene un valor de: {tanque_uno}%\n",
    "    El tanque dos tiene un valor de: {tanque_dos}%\n",
    "    El tanque tres tiene un valor de: {tanque_tres}%\n",
    "    \"\"\""
   ]
  },
  {
   "cell_type": "markdown",
   "metadata": {},
   "source": [
    "Ahora que hemos definido la función de informes, vamos a comprobarlo. Para esta misión, los tanques no están llenos:"
   ]
  },
  {
   "cell_type": "code",
   "execution_count": 16,
   "metadata": {},
   "outputs": [
    {
     "name": "stdout",
     "output_type": "stream",
     "text": [
      "\n",
      "    El promedio de combustible es: 78.33333333333333%\n",
      "    El tanque uno tiene un valor de: 80%\n",
      "    El tanque dos tiene un valor de: 70%\n",
      "    El tanque tres tiene un valor de: 85%\n",
      "    \n"
     ]
    }
   ],
   "source": [
    "print(promedio_combustible(80,70,85))"
   ]
  },
  {
   "cell_type": "markdown",
   "metadata": {},
   "source": [
    "En lugar de simplemente crear el informe, la función también está calculando el promedio. Mejora la legibilidad extrayendo el cálculo promedio de la función en una nueva función para que el promedio se pueda hacer de forma independiente:"
   ]
  },
  {
   "cell_type": "code",
   "execution_count": 18,
   "metadata": {},
   "outputs": [
    {
     "data": {
      "text/plain": [
       "52.0"
      ]
     },
     "execution_count": 18,
     "metadata": {},
     "output_type": "execute_result"
    }
   ],
   "source": [
    "def promedio(valores):\n",
    "    total = sum(valores)\n",
    "    numero_valores = len(valores)\n",
    "    return total / numero_valores\n",
    "\n",
    "promedio([40, 50, 25, 93])"
   ]
  },
  {
   "cell_type": "markdown",
   "metadata": {},
   "source": [
    "Ahora actualiza la función de informes para llamando a la nueva función del promedio:"
   ]
  },
  {
   "cell_type": "code",
   "execution_count": 19,
   "metadata": {},
   "outputs": [
    {
     "name": "stdout",
     "output_type": "stream",
     "text": [
      "\n",
      "    El promedio de combustible es: 78.0%\n",
      "    El tanque uno tiene un valor de: 88%\n",
      "    El tanque dos tiene un valor de: 76%\n",
      "    El tanque tres tiene un valor de: 70%\n",
      "    \n"
     ]
    }
   ],
   "source": [
    "def promedio_combustible(tanque_uno, tanque_dos, tanque_tres):\n",
    "    return f\"\"\"\n",
    "    El promedio de combustible es: {promedio([tanque_uno,tanque_dos,tanque_tres])}%\n",
    "    El tanque uno tiene un valor de: {tanque_uno}%\n",
    "    El tanque dos tiene un valor de: {tanque_dos}%\n",
    "    El tanque tres tiene un valor de: {tanque_tres}%\n",
    "    \"\"\"\n",
    "\n",
    "print(promedio_combustible(88,76,70))"
   ]
  },
  {
   "cell_type": "markdown",
   "metadata": {},
   "source": [
    "# Ejercicio 2: Trabajo con argumentos de palabra clave\n",
    "### Ejercicio : Trabajar con argumentos de palabras clave en funciones\n",
    "En este ejercicio, construirás un informe de cohete que requiere varias piezas de información, como el tiempo hasta el destino, el combustible a la izquierda y el nombre del destino. Comienza por crear una función que creará un informe preciso de la misión:"
   ]
  },
  {
   "cell_type": "code",
   "execution_count": 13,
   "metadata": {},
   "outputs": [],
   "source": [
    "def informe(hora_prelanzamiento, tiempo_vuelo, destino, tanque_externo, tanque_interno):\n",
    "    return f\"\"\"\n",
    "    Nuestro destino: {destino}\n",
    "    Tiempo de viaje total: {hora_prelanzamiento + tiempo_vuelo} minutos\n",
    "    Combustible total: {tanque_externo + tanque_interno} galones\n",
    "    \"\"\""
   ]
  },
  {
   "cell_type": "markdown",
   "metadata": {},
   "source": [
    "La función es problemática porque no se puede adaptar para minutos adicionales o tanques adicionales de combustible. Hazlo más flexible permitiendo cualquier número de pasos basados en el tiempo y cualquier número de tanques. En lugar de usar `*args` y `**kwargs`, aprovecha el hecho de que puedes usar cualquier nombre que desees. Asegurate que la función sea más legible mediante el uso de nombres de variables que están asociados con las entradas, como `*minutes` y `**fuel_reservoirs`:"
   ]
  },
  {
   "cell_type": "code",
   "execution_count": 20,
   "metadata": {},
   "outputs": [],
   "source": [
    "def informe(destino, *minutos, **cantidad_combustible):\n",
    "     return f\"\"\"\n",
    "    Nuestro destino: {destino}\n",
    "    Tiempo de viaje total: {sum(minutos)} minutos\n",
    "    Combustible total: {sum(cantidad_combustible)} galones\n",
    "    \"\"\""
   ]
  },
  {
   "cell_type": "markdown",
   "metadata": {},
   "source": [
    "Debido a que el combustible que queda en los tanques es específico de cada tanque, actualiza la función para usar el nombre de cada tanque en el informe:"
   ]
  },
  {
   "cell_type": "code",
   "execution_count": 28,
   "metadata": {},
   "outputs": [
    {
     "name": "stdout",
     "output_type": "stream",
     "text": [
      "\n",
      "Nuestro destino: Moon\n",
      "Tiempo de viaje total: 74 minutos\n",
      "Combustible total: 500000 galones\n",
      "El tanque main contiene : 300000 gallones left\n",
      "El tanque external contiene : 200000 gallones left\n",
      "\n"
     ]
    }
   ],
   "source": [
    "def informe(destino, *minutos, **cantidad_combustible):\n",
    "    reporte = f\"\"\"\n",
    "Nuestro destino: {destino}\n",
    "Tiempo de viaje total: {sum(minutos)} minutos\n",
    "Combustible total: {sum(cantidad_combustible.values())} galones\n",
    "\"\"\"\n",
    "    for tanque, galones in cantidad_combustible.items():\n",
    "        reporte += f\"El tanque {tanque} contiene : {galones} gallones left\\n\"\n",
    "    return reporte\n",
    "\n",
    "print(informe(\"Moon\", 8, 11, 55, main=300000, external=200000))"
   ]
  }
 ],
 "metadata": {
  "interpreter": {
   "hash": "5208ece860cd8f659edbc8d402425989a1be8cb2cbdc0b946175eff23c10f70c"
  },
  "kernelspec": {
   "display_name": "Python 3.9.10 64-bit",
   "language": "python",
   "name": "python3"
  },
  "language_info": {
   "codemirror_mode": {
    "name": "ipython",
    "version": 3
   },
   "file_extension": ".py",
   "mimetype": "text/x-python",
   "name": "python",
   "nbconvert_exporter": "python",
   "pygments_lexer": "ipython3",
   "version": "3.9.10"
  },
  "orig_nbformat": 4
 },
 "nbformat": 4,
 "nbformat_minor": 2
}
