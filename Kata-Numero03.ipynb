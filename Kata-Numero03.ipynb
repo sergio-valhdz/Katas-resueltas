{
 "cells": [
  {
   "cell_type": "markdown",
   "metadata": {},
   "source": [
    "# Ejercicio - Escribir declaraciones `if`, `else`, y `elif`"
   ]
  },
  {
   "cell_type": "markdown",
   "metadata": {},
   "source": [
    "Para este ejercicio, escribirás una lógica condicional que imprima una advertencia si un asteroide se acerca a la Tierra demasiado rápido. La velocidad del asteroide varía dependiendo de lo cerca que esté del sol, y cualquier velocidad superior a 25 kilómetros por segundo (km/s) merece una advertencia.\n",
    "\n",
    "Un asteroide se acerca, y viaja a una velocidad de 49 km/s."
   ]
  },
  {
   "cell_type": "code",
   "execution_count": 3,
   "metadata": {},
   "outputs": [
    {
     "name": "stdout",
     "output_type": "stream",
     "text": [
      "Cuidado, nos vamos a morir!!!!\n"
     ]
    }
   ],
   "source": [
    "velocidad_asteroide = 49\n",
    "\n",
    "if velocidad_asteroide > 25:\n",
    "    print(\"Cuidado, nos vamos a morir!!!!\")\n",
    "else:\n",
    "    print(\"No existe riesgo\")"
   ]
  },
  {
   "cell_type": "markdown",
   "metadata": {},
   "source": [
    "Si un asteroide entra en la atmósfera de la Tierra a una velocidad mayor o igual a 20 km/s, a veces produce un rayo de luz que se puede ver desde la Tierra. Escribe la lógica condicional que usa declaraciones `if`, `else`, y `elif` para alertar a las personas de todo el mundo que deben buscar un asteroide en el cielo. ¡Hay uno que se dirige a la tierra ahora a una velocidad de 19 km/s!"
   ]
  },
  {
   "cell_type": "code",
   "execution_count": 10,
   "metadata": {},
   "outputs": [
    {
     "name": "stdout",
     "output_type": "stream",
     "text": [
      "No existe riesgo\n"
     ]
    }
   ],
   "source": [
    "velocidad_asteroide = 19\n",
    "\n",
    "if velocidad_asteroide > 20:\n",
    "    print(\"Cuidado, nos vamos a morir!!!! Si se asoma por la ventana vera un bonito destello\")\n",
    "elif velocidad_asteroide == 20:\n",
    "    print(f\"Look up, un asteroide se acerca a {velocidad_asteroide}km/s, puede verlo ahora mismo\")\n",
    "else:\n",
    "    print(\"No existe riesgo\")"
   ]
  },
  {
   "cell_type": "markdown",
   "metadata": {},
   "source": [
    "*Los asteroides de menos de 25 metros en su dimensión más grande probablemente se quemarán a medida que entren en la atmósfera de la Tierra.\n",
    "\n",
    "Si una pieza de un asteroide que es más grande que 25 metros pero más pequeña que 1000 metros golpeara la Tierra, causaría mucho daño.\n",
    "También discutimos en el ejercicio anterior que:\n",
    "\n",
    "La velocidad del asteroide varía en función de lo cerca que esté del sol, y cualquier velocidad superior a 25 kilómetros por segundo (km/s) merece una advertencia.\n",
    "Si un asteroide entra en la atmósfera de la Tierra a una velocidad mayor o igual a 20 km/s, a veces produce un rayo de luz que se puede ver desde la Tierra.\n",
    "Usando toda esta información, escribe un programa que emita la advertencia o información correcta a la gente de la Tierra, según la velocidad y el tamaño de un asteroide. Utiliza instrucciones `if`, `else`, y `elif`, así como los operadores and y or."
   ]
  },
  {
   "cell_type": "code",
   "execution_count": 17,
   "metadata": {},
   "outputs": [
    {
     "name": "stdout",
     "output_type": "stream",
     "text": [
      "Caera un asteroide extremadamente peligroso pero nos dejara una hermosa vista\n"
     ]
    }
   ],
   "source": [
    "tamano_asteroide = 50\n",
    "velocidad_asteroide = 32\n",
    "\n",
    "if tamano_asteroide > 25 and velocidad_asteroide > 25:\n",
    "    print(\"Caera un asteroide extremadamente peligroso pero nos dejara una hermosa vista\")\n",
    "elif tamano_asteroide < 25 and velocidad_asteroide > 25:\n",
    "    print(\"Si mira al ciela podrá ver una hermosa luz\")\n",
    "elif velocidad_asteroide >= 20:\n",
    "    print(f\"Look up, un asteroide se acerca a {velocidad_asteroide}km/s, puede verlo ahora mismo\")\n",
    "elif tamano_asteroide < 25:\n",
    "    print(\"Aqui no pasa nada\")\n",
    "else:\n",
    "    print(\"Sin novedades comandante\")"
   ]
  },
  {
   "cell_type": "markdown",
   "metadata": {},
   "source": []
  }
 ],
 "metadata": {
  "interpreter": {
   "hash": "5208ece860cd8f659edbc8d402425989a1be8cb2cbdc0b946175eff23c10f70c"
  },
  "kernelspec": {
   "display_name": "Python 3.9.10 64-bit",
   "language": "python",
   "name": "python3"
  },
  "language_info": {
   "codemirror_mode": {
    "name": "ipython",
    "version": 3
   },
   "file_extension": ".py",
   "mimetype": "text/x-python",
   "name": "python",
   "nbconvert_exporter": "python",
   "pygments_lexer": "ipython3",
   "version": "3.9.10"
  },
  "orig_nbformat": 4
 },
 "nbformat": 4,
 "nbformat_minor": 2
}
