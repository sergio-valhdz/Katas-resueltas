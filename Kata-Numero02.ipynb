{
 "cells": [
  {
   "cell_type": "markdown",
   "metadata": {},
   "source": [
    "# Ejercicio - Crear un paquete"
   ]
  },
  {
   "cell_type": "markdown",
   "metadata": {},
   "source": [
    "## Crear un entorno virtual\n",
    "\n",
    "### Evidencias\n",
    "![img1](/Recursos/1.png)\n",
    "\n",
    "![img2](/Recursos/2.png)\n",
    "\n",
    "![img3](/Recursos/3.png)\n",
    "\n",
    "![img4](/Recursos/4.png)\n",
    "\n",
    "![img5](/Recursos/5.png)"
   ]
  },
  {
   "cell_type": "markdown",
   "metadata": {},
   "source": []
  }
 ],
 "metadata": {
  "language_info": {
   "name": "python"
  },
  "orig_nbformat": 4
 },
 "nbformat": 4,
 "nbformat_minor": 2
}
